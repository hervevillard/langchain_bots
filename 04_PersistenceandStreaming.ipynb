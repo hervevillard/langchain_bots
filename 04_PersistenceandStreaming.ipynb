{
 "cells": [
  {
   "cell_type": "markdown",
   "metadata": {},
   "source": [
    "# Persistence and Streaming\n",
    "\n",
    "Persistance let you keep the state of a agent at particular point in time.This can help you go back to that state and run everything from that state.\n",
    "This is very important for long running applications\n",
    "\n"
   ]
  },
  {
   "cell_type": "code",
   "execution_count": 2,
   "metadata": {},
   "outputs": [],
   "source": [
    "from langgraph.graph import StateGraph, END\n",
    "from typing import TypedDict, Annotated\n",
    "import operator \n",
    "from langchain_core.messages import AnyMessage, SystemMessage,HumanMessage, ToolMessage\n",
    "from langchain_openai import ChatOpenAI\n",
    "from langchain_community.tools.tavily_search import TavilySearchResults"
   ]
  },
  {
   "cell_type": "code",
   "execution_count": 3,
   "metadata": {},
   "outputs": [],
   "source": [
    "tool = TavilySearchResults(max_results=2)"
   ]
  },
  {
   "cell_type": "code",
   "execution_count": 4,
   "metadata": {},
   "outputs": [],
   "source": [
    "class AgentState(TypedDict):\n",
    "    messages: Annotated[list[AnyMessage], operator.add]"
   ]
  },
  {
   "cell_type": "code",
   "execution_count": 16,
   "metadata": {},
   "outputs": [],
   "source": [
    "#!pip install langgraph-checkpoint-sqlite\n",
    "from langgraph.checkpoint.sqlite import SqliteSaver # in order for this to work we have to install langgraph-checkpoint-sqlite\n",
    "import sqlite3\n",
    "#memory = SqliteSaver.from_conn_string(\":memory:\")\n",
    "\n",
    "from langgraph.checkpoint.sqlite import SqliteSaver\n",
    "\n",
    "db_path = 'checkpoints.db'\n",
    "conn = sqlite3.connect(db_path, check_same_thread=False)\n",
    "\n",
    "memory = SqliteSaver(conn)"
   ]
  },
  {
   "cell_type": "code",
   "execution_count": 26,
   "metadata": {},
   "outputs": [],
   "source": [
    "class Agent:\n",
    "    def __init__(self, model, tools, checkpointer, system=\"\"):\n",
    "        self.system = system\n",
    "        graph = StateGraph(AgentState)\n",
    "        graph.add_node(\"llm\", self.call_openai)\n",
    "        graph.add_node(\"action\", self.take_action)\n",
    "        graph.add_conditional_edges(\"llm\", self.exists_action, {True: \"action\", False: END})\n",
    "        graph.add_edge(\"action\", \"llm\")\n",
    "        graph.set_entry_point(\"llm\")\n",
    "        self.graph = graph.compile(checkpointer=checkpointer)\n",
    "        self.tools = {t.name: t for t in tools}\n",
    "        self.model = model.bind_tools(tools)\n",
    "\n",
    "    def call_openai(self, state: AgentState):\n",
    "        messages = state['messages']\n",
    "        if self.system:\n",
    "            messages = [SystemMessage(content=self.system)] + messages\n",
    "        message = self.model.invoke(messages)\n",
    "        return {'messages': [message]}\n",
    "\n",
    "    def exists_action(self, state: AgentState):\n",
    "        result = state['messages'][-1]\n",
    "        return len(result.tool_calls) > 0\n",
    "\n",
    "    def take_action(self, state: AgentState):\n",
    "        tool_calls = state['messages'][-1].tool_calls\n",
    "        results = []\n",
    "        for t in tool_calls:\n",
    "            print(f\"Calling: {t}\")\n",
    "            result = self.tools[t['name']].invoke(t['args'])\n",
    "            results.append(ToolMessage(tool_call_id=t['id'], name=t['name'], content=str(result)))\n",
    "        print(\"Back to the model!\")\n",
    "        return {'messages': results}"
   ]
  },
  {
   "cell_type": "code",
   "execution_count": 27,
   "metadata": {},
   "outputs": [],
   "source": [
    "prompt = \"\"\"You are a smart research assistant. Use the search engine to look up information. \\\n",
    "You are allowed to make multiple calls (either together or in sequence). \\\n",
    "Only look up information when you are sure of what you want. \\\n",
    "If you need to look up some information before asking a follow up question, you are allowed to do that!\n",
    "\"\"\"\n",
    "model = ChatOpenAI(model=\"gpt-4o\")\n",
    "abot = Agent(model, [tool], system=prompt, checkpointer=memory)"
   ]
  },
  {
   "cell_type": "code",
   "execution_count": 34,
   "metadata": {},
   "outputs": [],
   "source": [
    "# pip install langgraph-checkpoint-sqlite\n",
    "\n",
    "from langgraph.checkpoint.memory import MemorySaver\n",
    "from langgraph.checkpoint.sqlite import SqliteSaver\n",
    "from langgraph.checkpoint.sqlite.aio import AsyncSqliteSaver"
   ]
  },
  {
   "cell_type": "code",
   "execution_count": 23,
   "metadata": {},
   "outputs": [],
   "source": [
    "# Stream: the first thing can be about streaming individual message\n",
    "# The second thing can be about token, where we stream the output of every token\n",
    "\n",
    "messages = [HumanMessage(content=\"What is the weather in Kigali?\")]\n",
    "thread   = {\"configurable\": {\"thread_id\": \"1\"}} # this will allow us to have multiple conversation going at the same time\n",
    "# the thread is also very useful when you have multiple people using your application at the same time\n",
    "\n"
   ]
  },
  {
   "cell_type": "code",
   "execution_count": 29,
   "metadata": {},
   "outputs": [
    {
     "name": "stdout",
     "output_type": "stream",
     "text": [
      "[AIMessage(content='', additional_kwargs={'tool_calls': [{'id': 'call_LVja7TnAU7nM4sZGU0iTxy48', 'function': {'arguments': '{\"query\":\"current weather in Kigali\"}', 'name': 'tavily_search_results_json'}, 'type': 'function'}], 'refusal': None}, response_metadata={'token_usage': {'completion_tokens': 22, 'prompt_tokens': 151, 'total_tokens': 173, 'completion_tokens_details': {'accepted_prediction_tokens': 0, 'audio_tokens': 0, 'reasoning_tokens': 0, 'rejected_prediction_tokens': 0}, 'prompt_tokens_details': {'audio_tokens': 0, 'cached_tokens': 0}}, 'model_name': 'gpt-4o-2024-08-06', 'system_fingerprint': 'fp_50cad350e4', 'finish_reason': 'tool_calls', 'logprobs': None}, id='run-4bb42f40-de2c-4779-85fd-5b0d9c831c1d-0', tool_calls=[{'name': 'tavily_search_results_json', 'args': {'query': 'current weather in Kigali'}, 'id': 'call_LVja7TnAU7nM4sZGU0iTxy48', 'type': 'tool_call'}], usage_metadata={'input_tokens': 151, 'output_tokens': 22, 'total_tokens': 173, 'input_token_details': {'audio': 0, 'cache_read': 0}, 'output_token_details': {'audio': 0, 'reasoning': 0}})]\n",
      "Calling: {'name': 'tavily_search_results_json', 'args': {'query': 'current weather in Kigali'}, 'id': 'call_LVja7TnAU7nM4sZGU0iTxy48', 'type': 'tool_call'}\n",
      "Back to the model!\n",
      "[ToolMessage(content='[{\\'url\\': \\'https://www.weatherapi.com/\\', \\'content\\': \"{\\'location\\': {\\'name\\': \\'Kigali\\', \\'region\\': \\'Kigali\\', \\'country\\': \\'Rwanda\\', \\'lat\\': -1.9536, \\'lon\\': 30.0606, \\'tz_id\\': \\'Africa/Kigali\\', \\'localtime_epoch\\': 1737666356, \\'localtime\\': \\'2025-01-23 23:05\\'}, \\'current\\': {\\'last_updated_epoch\\': 1737666000, \\'last_updated\\': \\'2025-01-23 23:00\\', \\'temp_c\\': 21.4, \\'temp_f\\': 70.5, \\'is_day\\': 0, \\'condition\\': {\\'text\\': \\'Partly cloudy\\', \\'icon\\': \\'//cdn.weatherapi.com/weather/64x64/night/116.png\\', \\'code\\': 1003}, \\'wind_mph\\': 2.2, \\'wind_kph\\': 3.6, \\'wind_degree\\': 266, \\'wind_dir\\': \\'W\\', \\'pressure_mb\\': 1020.0, \\'pressure_in\\': 30.12, \\'precip_mm\\': 0.69, \\'precip_in\\': 0.03, \\'humidity\\': 64, \\'cloud\\': 50, \\'feelslike_c\\': 21.4, \\'feelslike_f\\': 70.5, \\'windchill_c\\': 16.7, \\'windchill_f\\': 62.1, \\'heatindex_c\\': 16.7, \\'heatindex_f\\': 62.1, \\'dewpoint_c\\': 15.4, \\'dewpoint_f\\': 59.6, \\'vis_km\\': 10.0, \\'vis_miles\\': 6.0, \\'uv\\': 0.0, \\'gust_mph\\': 4.4, \\'gust_kph\\': 7.1}}\"}, {\\'url\\': \\'https://www.peoplesweather.com/weather/Kigali/?date=2025-01-23\\', \\'content\\': \\'Get your weather updates for Kigali as seen on our Detailed Bulletin on People°s Weather DStv Channel 180 and Openview Channel 115. ... Weather; Rwanda; Kigali; Thursday 23 January 2025. 26°C 15°C: 60% . Cloud Cover: 100%. ENE / 10km/h. Light Breeze. Thunderstorms possible: Morning:\\'}]', name='tavily_search_results_json', tool_call_id='call_LVja7TnAU7nM4sZGU0iTxy48')]\n",
      "[AIMessage(content='The current weather in Kigali is partly cloudy with a temperature of 21.4°C (70.5°F). The wind is blowing from the west at 3.6 km/h (2.2 mph), and the humidity is 64%. The atmospheric pressure is 1020.0 mb. There is also a slight chance of precipitation with 0.69 mm recorded.', additional_kwargs={'refusal': None}, response_metadata={'token_usage': {'completion_tokens': 79, 'prompt_tokens': 699, 'total_tokens': 778, 'completion_tokens_details': {'accepted_prediction_tokens': 0, 'audio_tokens': 0, 'reasoning_tokens': 0, 'rejected_prediction_tokens': 0}, 'prompt_tokens_details': {'audio_tokens': 0, 'cached_tokens': 0}}, 'model_name': 'gpt-4o-2024-08-06', 'system_fingerprint': 'fp_50cad350e4', 'finish_reason': 'stop', 'logprobs': None}, id='run-c3e23cc6-d380-48dd-82d2-2c9d15f4230b-0', usage_metadata={'input_tokens': 699, 'output_tokens': 79, 'total_tokens': 778, 'input_token_details': {'audio': 0, 'cache_read': 0}, 'output_token_details': {'audio': 0, 'reasoning': 0}})]\n",
      "{'messages': [AIMessage(content='', additional_kwargs={'tool_calls': [{'id': 'call_TEP6uk2UPpFsPvDxCF9V2i0H', 'function': {'arguments': '{\"query\":\"current weather in Kampala\"}', 'name': 'tavily_search_results_json'}, 'type': 'function'}], 'refusal': None}, response_metadata={'token_usage': {'completion_tokens': 22, 'prompt_tokens': 789, 'total_tokens': 811, 'completion_tokens_details': {'accepted_prediction_tokens': 0, 'audio_tokens': 0, 'reasoning_tokens': 0, 'rejected_prediction_tokens': 0}, 'prompt_tokens_details': {'audio_tokens': 0, 'cached_tokens': 0}}, 'model_name': 'gpt-4o-2024-08-06', 'system_fingerprint': 'fp_50cad350e4', 'finish_reason': 'tool_calls', 'logprobs': None}, id='run-d91d04ec-ea91-44ef-90b2-4443072d428f-0', tool_calls=[{'name': 'tavily_search_results_json', 'args': {'query': 'current weather in Kampala'}, 'id': 'call_TEP6uk2UPpFsPvDxCF9V2i0H', 'type': 'tool_call'}], usage_metadata={'input_tokens': 789, 'output_tokens': 22, 'total_tokens': 811, 'input_token_details': {'audio': 0, 'cache_read': 0}, 'output_token_details': {'audio': 0, 'reasoning': 0}})]}\n",
      "Calling: {'name': 'tavily_search_results_json', 'args': {'query': 'current weather in Kampala'}, 'id': 'call_TEP6uk2UPpFsPvDxCF9V2i0H', 'type': 'tool_call'}\n",
      "Back to the model!\n",
      "{'messages': [ToolMessage(content='[{\\'url\\': \\'https://www.weatherapi.com/\\', \\'content\\': \"{\\'location\\': {\\'name\\': \\'Kampala\\', \\'region\\': \\'Kampala\\', \\'country\\': \\'Uganda\\', \\'lat\\': 0.3156, \\'lon\\': 32.5656, \\'tz_id\\': \\'Africa/Kampala\\', \\'localtime_epoch\\': 1737666333, \\'localtime\\': \\'2025-01-24 00:05\\'}, \\'current\\': {\\'last_updated_epoch\\': 1737666000, \\'last_updated\\': \\'2025-01-24 00:00\\', \\'temp_c\\': 20.3, \\'temp_f\\': 68.5, \\'is_day\\': 0, \\'condition\\': {\\'text\\': \\'Partly cloudy\\', \\'icon\\': \\'//cdn.weatherapi.com/weather/64x64/night/116.png\\', \\'code\\': 1003}, \\'wind_mph\\': 3.4, \\'wind_kph\\': 5.4, \\'wind_degree\\': 262, \\'wind_dir\\': \\'W\\', \\'pressure_mb\\': 1015.0, \\'pressure_in\\': 29.97, \\'precip_mm\\': 0.0, \\'precip_in\\': 0.0, \\'humidity\\': 88, \\'cloud\\': 25, \\'feelslike_c\\': 20.3, \\'feelslike_f\\': 68.5, \\'windchill_c\\': 21.3, \\'windchill_f\\': 70.4, \\'heatindex_c\\': 24.4, \\'heatindex_f\\': 75.8, \\'dewpoint_c\\': 16.9, \\'dewpoint_f\\': 62.4, \\'vis_km\\': 10.0, \\'vis_miles\\': 6.0, \\'uv\\': 0.0, \\'gust_mph\\': 6.0, \\'gust_kph\\': 9.7}}\"}, {\\'url\\': \\'https://www.peoplesweather.com/weather/Kampala/?date=2025-01-23\\', \\'content\\': \\'Get your weather updates for Kampala as seen on our Detailed Bulletin on People°s Weather DStv Channel 180 and Openview Channel 115. ... Weather for Kampala. Weather; Uganda; Kampala; Thursday 23 January 2025. 28°C 21°C: 10% . Cloud Cover: 87%. S / 17km/h. Gentle Breeze. Thunderstorms possible: Morning:\\'}]', name='tavily_search_results_json', tool_call_id='call_TEP6uk2UPpFsPvDxCF9V2i0H')]}\n",
      "{'messages': [AIMessage(content='The current weather in Kampala is partly cloudy with a temperature of 20.3°C (68.5°F). The wind is blowing from the west at 5.4 km/h (3.4 mph), and the humidity is 88%. The atmospheric pressure is 1015.0 mb. There is no precipitation recorded at the moment.', additional_kwargs={'refusal': None}, response_metadata={'token_usage': {'completion_tokens': 72, 'prompt_tokens': 1340, 'total_tokens': 1412, 'completion_tokens_details': {'accepted_prediction_tokens': 0, 'audio_tokens': 0, 'reasoning_tokens': 0, 'rejected_prediction_tokens': 0}, 'prompt_tokens_details': {'audio_tokens': 0, 'cached_tokens': 0}}, 'model_name': 'gpt-4o-2024-08-06', 'system_fingerprint': 'fp_50cad350e4', 'finish_reason': 'stop', 'logprobs': None}, id='run-56e139cb-d1f0-40b2-95bf-c70ae06b8f54-0', usage_metadata={'input_tokens': 1340, 'output_tokens': 72, 'total_tokens': 1412, 'input_token_details': {'audio': 0, 'cache_read': 0}, 'output_token_details': {'audio': 0, 'reasoning': 0}})]}\n",
      "{'messages': [AIMessage(content=\"Currently, Kigali is slightly warmer than Kampala. Kigali has a temperature of 21.4°C (70.5°F) compared to Kampala's 20.3°C (68.5°F).\", additional_kwargs={'refusal': None}, response_metadata={'token_usage': {'completion_tokens': 42, 'prompt_tokens': 1423, 'total_tokens': 1465, 'completion_tokens_details': {'accepted_prediction_tokens': 0, 'audio_tokens': 0, 'reasoning_tokens': 0, 'rejected_prediction_tokens': 0}, 'prompt_tokens_details': {'audio_tokens': 0, 'cached_tokens': 1280}}, 'model_name': 'gpt-4o-2024-08-06', 'system_fingerprint': 'fp_50cad350e4', 'finish_reason': 'stop', 'logprobs': None}, id='run-788021ae-ff60-40da-8542-4edc5ec47ef6-0', usage_metadata={'input_tokens': 1423, 'output_tokens': 42, 'total_tokens': 1465, 'input_token_details': {'audio': 0, 'cache_read': 1280}, 'output_token_details': {'audio': 0, 'reasoning': 0}})]}\n"
     ]
    }
   ],
   "source": [
    "with SqliteSaver.from_conn_string(\":memory:\") as memory:\n",
    "  abot = Agent(model, [tool], system=prompt, checkpointer=memory)\n",
    "\n",
    "  messages = [HumanMessage(content=\"What is the weather in Kigali?\")]\n",
    "  thread = {\"configurable\": {\"thread_id\": \"1\"}}\n",
    "  \n",
    "  for event in abot.graph.stream({\"messages\": messages}, thread):\n",
    "      for v in event.values():\n",
    "          try:\n",
    "            print(v['messages'])\n",
    "          except:\n",
    "             pass\n",
    "          \n",
    "  messages = [HumanMessage(content=\"What about in Kampala?\")]\n",
    "  thread = {\"configurable\": {\"thread_id\": \"1\"}}\n",
    "  for event in abot.graph.stream({\"messages\": messages}, thread):\n",
    "      for v in event.values():\n",
    "          print(v)\n",
    "\n",
    "\n",
    "  messages = [HumanMessage(content=\"Which one is warmer?\")]\n",
    "  thread = {\"configurable\": {\"thread_id\": \"1\"}}\n",
    "  for event in abot.graph.stream({\"messages\": messages}, thread):\n",
    "      for v in event.values():\n",
    "          print(v)"
   ]
  },
  {
   "cell_type": "markdown",
   "metadata": {},
   "source": [
    "### Losing memory\n",
    "when the thread id is change, the model no longer have access to the memory and thus get confused"
   ]
  },
  {
   "cell_type": "code",
   "execution_count": 32,
   "metadata": {},
   "outputs": [
    {
     "name": "stdout",
     "output_type": "stream",
     "text": [
      "[AIMessage(content='', additional_kwargs={'tool_calls': [{'id': 'call_KedJ2CSLIsGXZJiMhQlXBrSx', 'function': {'arguments': '{\"query\":\"Kigali weather current\"}', 'name': 'tavily_search_results_json'}, 'type': 'function'}], 'refusal': None}, response_metadata={'token_usage': {'completion_tokens': 23, 'prompt_tokens': 151, 'total_tokens': 174, 'completion_tokens_details': {'accepted_prediction_tokens': 0, 'audio_tokens': 0, 'reasoning_tokens': 0, 'rejected_prediction_tokens': 0}, 'prompt_tokens_details': {'audio_tokens': 0, 'cached_tokens': 0}}, 'model_name': 'gpt-4o-2024-08-06', 'system_fingerprint': 'fp_50cad350e4', 'finish_reason': 'tool_calls', 'logprobs': None}, id='run-587e924c-b84e-40a4-84fb-2e0fe3d18861-0', tool_calls=[{'name': 'tavily_search_results_json', 'args': {'query': 'Kigali weather current'}, 'id': 'call_KedJ2CSLIsGXZJiMhQlXBrSx', 'type': 'tool_call'}], usage_metadata={'input_tokens': 151, 'output_tokens': 23, 'total_tokens': 174, 'input_token_details': {'audio': 0, 'cache_read': 0}, 'output_token_details': {'audio': 0, 'reasoning': 0}})]\n",
      "Calling: {'name': 'tavily_search_results_json', 'args': {'query': 'Kigali weather current'}, 'id': 'call_KedJ2CSLIsGXZJiMhQlXBrSx', 'type': 'tool_call'}\n",
      "Back to the model!\n",
      "[ToolMessage(content='[{\\'url\\': \\'https://www.weatherapi.com/\\', \\'content\\': \"{\\'location\\': {\\'name\\': \\'Kigali\\', \\'region\\': \\'Kigali\\', \\'country\\': \\'Rwanda\\', \\'lat\\': -1.9536, \\'lon\\': 30.0606, \\'tz_id\\': \\'Africa/Kigali\\', \\'localtime_epoch\\': 1737666711, \\'localtime\\': \\'2025-01-23 23:11\\'}, \\'current\\': {\\'last_updated_epoch\\': 1737666000, \\'last_updated\\': \\'2025-01-23 23:00\\', \\'temp_c\\': 21.4, \\'temp_f\\': 70.5, \\'is_day\\': 0, \\'condition\\': {\\'text\\': \\'Partly cloudy\\', \\'icon\\': \\'//cdn.weatherapi.com/weather/64x64/night/116.png\\', \\'code\\': 1003}, \\'wind_mph\\': 2.2, \\'wind_kph\\': 3.6, \\'wind_degree\\': 266, \\'wind_dir\\': \\'W\\', \\'pressure_mb\\': 1020.0, \\'pressure_in\\': 30.12, \\'precip_mm\\': 0.69, \\'precip_in\\': 0.03, \\'humidity\\': 64, \\'cloud\\': 50, \\'feelslike_c\\': 21.4, \\'feelslike_f\\': 70.5, \\'windchill_c\\': 16.7, \\'windchill_f\\': 62.1, \\'heatindex_c\\': 16.7, \\'heatindex_f\\': 62.1, \\'dewpoint_c\\': 15.4, \\'dewpoint_f\\': 59.6, \\'vis_km\\': 10.0, \\'vis_miles\\': 6.0, \\'uv\\': 0.0, \\'gust_mph\\': 4.4, \\'gust_kph\\': 7.1}}\"}, {\\'url\\': \\'https://www.easeweather.com/africa/rwanda/kigali/january\\', \\'content\\': \\'Weather in Kigali in January 2025 - Detailed Forecast Weather in Kigali for January 2025 Your guide to Kigali weather in January - trends and predictions The forecast for the next days in Kigali predicts temperatures to be around 27\\\\xa0°C, close to the historical average. In general, the average temperature in Kigali at the beginning of January is 26.1\\\\xa0°C. Kigali experiences heavy rainfall in January, with over 20 rainy days and an average total precipitation 103.5\\\\xa0mm. Kigali in January average weather Temperatures trend during January in Kigali Our weather forecast for Kigali in January is based on the analysis of historical data rather than real-time forecast models. Kigali in January - FAQ Explore the daily rainfall trends and prepare for Kigalis January weather\\\\xa0💧 January Weather\\'}]', name='tavily_search_results_json', tool_call_id='call_KedJ2CSLIsGXZJiMhQlXBrSx')]\n",
      "[AIMessage(content='The current weather in Kigali is partly cloudy with a temperature of 21.4°C (70.5°F). The humidity is at 64%, and there is a light wind blowing from the west at 3.6 km/h (2.2 mph). The atmospheric pressure is 1020.0 mb. There has been a precipitation of 0.69 mm, and the visibility is 10 km.', additional_kwargs={'refusal': None}, response_metadata={'token_usage': {'completion_tokens': 86, 'prompt_tokens': 778, 'total_tokens': 864, 'completion_tokens_details': {'accepted_prediction_tokens': 0, 'audio_tokens': 0, 'reasoning_tokens': 0, 'rejected_prediction_tokens': 0}, 'prompt_tokens_details': {'audio_tokens': 0, 'cached_tokens': 0}}, 'model_name': 'gpt-4o-2024-08-06', 'system_fingerprint': 'fp_50cad350e4', 'finish_reason': 'stop', 'logprobs': None}, id='run-860b8e02-0725-4db4-8943-6e55fc4b567a-0', usage_metadata={'input_tokens': 778, 'output_tokens': 86, 'total_tokens': 864, 'input_token_details': {'audio': 0, 'cache_read': 0}, 'output_token_details': {'audio': 0, 'reasoning': 0}})]\n",
      "{'messages': [AIMessage(content='', additional_kwargs={'tool_calls': [{'id': 'call_tKbLC3d4kVcVBegIIWOWiMjR', 'function': {'arguments': '{\"query\":\"Kampala weather current\"}', 'name': 'tavily_search_results_json'}, 'type': 'function'}], 'refusal': None}, response_metadata={'token_usage': {'completion_tokens': 23, 'prompt_tokens': 875, 'total_tokens': 898, 'completion_tokens_details': {'accepted_prediction_tokens': 0, 'audio_tokens': 0, 'reasoning_tokens': 0, 'rejected_prediction_tokens': 0}, 'prompt_tokens_details': {'audio_tokens': 0, 'cached_tokens': 0}}, 'model_name': 'gpt-4o-2024-08-06', 'system_fingerprint': 'fp_50cad350e4', 'finish_reason': 'tool_calls', 'logprobs': None}, id='run-f63be1ad-dad0-42e3-9e5a-d83c2e260c0f-0', tool_calls=[{'name': 'tavily_search_results_json', 'args': {'query': 'Kampala weather current'}, 'id': 'call_tKbLC3d4kVcVBegIIWOWiMjR', 'type': 'tool_call'}], usage_metadata={'input_tokens': 875, 'output_tokens': 23, 'total_tokens': 898, 'input_token_details': {'audio': 0, 'cache_read': 0}, 'output_token_details': {'audio': 0, 'reasoning': 0}})]}\n",
      "Calling: {'name': 'tavily_search_results_json', 'args': {'query': 'Kampala weather current'}, 'id': 'call_tKbLC3d4kVcVBegIIWOWiMjR', 'type': 'tool_call'}\n",
      "Back to the model!\n",
      "{'messages': [ToolMessage(content='[{\\'url\\': \\'https://www.weatherapi.com/\\', \\'content\\': \"{\\'location\\': {\\'name\\': \\'Kampala\\', \\'region\\': \\'Kampala\\', \\'country\\': \\'Uganda\\', \\'lat\\': 0.3156, \\'lon\\': 32.5656, \\'tz_id\\': \\'Africa/Kampala\\', \\'localtime_epoch\\': 1737666603, \\'localtime\\': \\'2025-01-24 00:10\\'}, \\'current\\': {\\'last_updated_epoch\\': 1737666000, \\'last_updated\\': \\'2025-01-24 00:00\\', \\'temp_c\\': 20.3, \\'temp_f\\': 68.5, \\'is_day\\': 0, \\'condition\\': {\\'text\\': \\'Partly cloudy\\', \\'icon\\': \\'//cdn.weatherapi.com/weather/64x64/night/116.png\\', \\'code\\': 1003}, \\'wind_mph\\': 3.4, \\'wind_kph\\': 5.4, \\'wind_degree\\': 262, \\'wind_dir\\': \\'W\\', \\'pressure_mb\\': 1015.0, \\'pressure_in\\': 29.97, \\'precip_mm\\': 0.0, \\'precip_in\\': 0.0, \\'humidity\\': 88, \\'cloud\\': 25, \\'feelslike_c\\': 20.3, \\'feelslike_f\\': 68.5, \\'windchill_c\\': 21.3, \\'windchill_f\\': 70.4, \\'heatindex_c\\': 24.4, \\'heatindex_f\\': 75.8, \\'dewpoint_c\\': 16.9, \\'dewpoint_f\\': 62.4, \\'vis_km\\': 10.0, \\'vis_miles\\': 6.0, \\'uv\\': 0.0, \\'gust_mph\\': 6.0, \\'gust_kph\\': 9.7}}\"}, {\\'url\\': \\'https://www.peoplesweather.com/weather/Kampala/?date=2025-01-23\\', \\'content\\': \\'Get your weather updates for Kampala as seen on our Detailed Bulletin on People°s Weather DStv Channel 180 and Openview Channel 115. ... Thursday 23 January 2025. 28°C 21°C: 10% . Cloud Cover: 87%. S / 17km/h. Gentle Breeze. Thunderstorms possible: Morning: 22°C: Partly Cloudy. Mild: Afternoon: 26°C: Partly Cloudy. Mild: Night: 21°C\\'}]', name='tavily_search_results_json', tool_call_id='call_tKbLC3d4kVcVBegIIWOWiMjR')]}\n",
      "{'messages': [AIMessage(content='The current weather in Kampala is partly cloudy with a temperature of 20.3°C (68.5°F). The humidity is quite high at 88%, and there is a light wind coming from the west at 5.4 km/h (3.4 mph). The atmospheric pressure is 1015.0 mb. There is no recent precipitation, and the visibility is 10 km.', additional_kwargs={'refusal': None}, response_metadata={'token_usage': {'completion_tokens': 82, 'prompt_tokens': 1447, 'total_tokens': 1529, 'completion_tokens_details': {'accepted_prediction_tokens': 0, 'audio_tokens': 0, 'reasoning_tokens': 0, 'rejected_prediction_tokens': 0}, 'prompt_tokens_details': {'audio_tokens': 0, 'cached_tokens': 0}}, 'model_name': 'gpt-4o-2024-08-06', 'system_fingerprint': 'fp_50cad350e4', 'finish_reason': 'stop', 'logprobs': None}, id='run-eba017f9-6fe1-4226-86c2-b9cce8678b59-0', usage_metadata={'input_tokens': 1447, 'output_tokens': 82, 'total_tokens': 1529, 'input_token_details': {'audio': 0, 'cache_read': 0}, 'output_token_details': {'audio': 0, 'reasoning': 0}})]}\n",
      "{'messages': [AIMessage(content='Could you please provide more context or specify the items, places, or conditions you are comparing to determine which one is warmer?', additional_kwargs={'refusal': None}, response_metadata={'token_usage': {'completion_tokens': 27, 'prompt_tokens': 149, 'total_tokens': 176, 'completion_tokens_details': {'accepted_prediction_tokens': 0, 'audio_tokens': 0, 'reasoning_tokens': 0, 'rejected_prediction_tokens': 0}, 'prompt_tokens_details': {'audio_tokens': 0, 'cached_tokens': 0}}, 'model_name': 'gpt-4o-2024-08-06', 'system_fingerprint': 'fp_50cad350e4', 'finish_reason': 'stop', 'logprobs': None}, id='run-6d6fb20d-567f-4042-a3b1-63bd1bef2a67-0', usage_metadata={'input_tokens': 149, 'output_tokens': 27, 'total_tokens': 176, 'input_token_details': {'audio': 0, 'cache_read': 0}, 'output_token_details': {'audio': 0, 'reasoning': 0}})]}\n"
     ]
    }
   ],
   "source": [
    "with SqliteSaver.from_conn_string(\":memory:\") as memory:\n",
    "  abot = Agent(model, [tool], system=prompt, checkpointer=memory)\n",
    "\n",
    "  messages = [HumanMessage(content=\"What is the weather in Kigali?\")]\n",
    "  thread = {\"configurable\": {\"thread_id\": \"1\"}}\n",
    "  \n",
    "  for event in abot.graph.stream({\"messages\": messages}, thread):\n",
    "      for v in event.values():\n",
    "          try:\n",
    "            print(v['messages'])\n",
    "          except:\n",
    "             pass\n",
    "          \n",
    "  messages = [HumanMessage(content=\"What about in Kampala?\")]\n",
    "  thread = {\"configurable\": {\"thread_id\": \"1\"}}\n",
    "  for event in abot.graph.stream({\"messages\": messages}, thread):\n",
    "      for v in event.values():\n",
    "          print(v)\n",
    "\n",
    "\n",
    "  messages = [HumanMessage(content=\"Which one is warmer?\")]\n",
    "  thread = {\"configurable\": {\"thread_id\": \"2\"}}\n",
    "  for event in abot.graph.stream({\"messages\": messages}, thread):\n",
    "      for v in event.values():\n",
    "          print(v)"
   ]
  },
  {
   "cell_type": "markdown",
   "metadata": {},
   "source": [
    "## Streaming tokens"
   ]
  },
  {
   "cell_type": "code",
   "execution_count": 38,
   "metadata": {},
   "outputs": [
    {
     "name": "stdout",
     "output_type": "stream",
     "text": [
      "Calling: {'name': 'tavily_search_results_json', 'args': {'query': 'San Francisco current weather'}, 'id': 'call_7TJzX9fqfkV7aI8dXF0khrOO', 'type': 'tool_call'}\n",
      "Back to the model!\n",
      "The| current| weather| in| San| Francisco| is| sunny| with| a| temperature| of| |15|.|6|°C| (|60|.|1|°F|).| The| wind| is| blowing| from| the| northeast| at| |7|.|2| mph| (|11|.|5| k|ph|),| and| the| humidity| is| |33|%.| There| is| no| precipitation|,| and| the| visibility| is| |16| km| (|9| miles|).|"
     ]
    }
   ],
   "source": [
    "import asyncio\n",
    "from contextlib import AsyncExitStack\n",
    "from langgraph.checkpoint.sqlite.aio import AsyncSqliteSaver\n",
    "\n",
    "stack = AsyncExitStack()\n",
    "memory = await stack.enter_async_context(AsyncSqliteSaver.from_conn_string(\":memory:\"))\n",
    "\n",
    "abot = Agent(model, [tool], system=prompt, checkpointer=memory)\n",
    "\n",
    "messages = [HumanMessage(content=\"What is the weather in SF?\")]\n",
    "thread = {\"configurable\": {\"thread_id\": \"4\"}}\n",
    "async for event in abot.graph.astream_events({\"messages\": messages}, thread, version=\"v1\"):\n",
    "        kind = event[\"event\"]\n",
    "        if kind == \"on_chat_model_stream\":\n",
    "            content = event[\"data\"][\"chunk\"].content\n",
    "            if content:\n",
    "                # Empty content in the context of OpenAI means\n",
    "                # that the model is asking for a tool to be invoked.\n",
    "                # So we only print non-empty content\n",
    "                print(content, end=\"|\")\n",
    "\n",
    "await stack.aclose()"
   ]
  },
  {
   "cell_type": "code",
   "execution_count": null,
   "metadata": {},
   "outputs": [],
   "source": []
  }
 ],
 "metadata": {
  "kernelspec": {
   "display_name": "Python 3",
   "language": "python",
   "name": "python3"
  },
  "language_info": {
   "codemirror_mode": {
    "name": "ipython",
    "version": 3
   },
   "file_extension": ".py",
   "mimetype": "text/x-python",
   "name": "python",
   "nbconvert_exporter": "python",
   "pygments_lexer": "ipython3",
   "version": "3.12.2"
  }
 },
 "nbformat": 4,
 "nbformat_minor": 2
}
