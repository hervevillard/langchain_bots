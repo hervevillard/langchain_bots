{
 "cells": [
  {
   "cell_type": "markdown",
   "metadata": {},
   "source": [
    "# Persistence and Streaming\n",
    "\n",
    "> Persistance let you keep the state of a agent at particular point in time.This can help you go back to that state and run everything from that state.\n",
    "\n",
    "> Streaming is to emit a list of signal about what's happening at that state\n",
    "This is very important for long running applications\n",
    "\n"
   ]
  },
  {
   "cell_type": "code",
   "execution_count": 1,
   "metadata": {},
   "outputs": [],
   "source": [
    "from langgraph.graph import StateGraph, END\n",
    "from typing import TypedDict, Annotated\n",
    "import operator \n",
    "from langchain_core.messages import AnyMessage, SystemMessage,HumanMessage, ToolMessage\n",
    "from langchain_openai import ChatOpenAI\n",
    "from langchain_community.tools.tavily_search import TavilySearchResults"
   ]
  },
  {
   "cell_type": "code",
   "execution_count": 2,
   "metadata": {},
   "outputs": [],
   "source": [
    "tool = TavilySearchResults(max_results=2)"
   ]
  },
  {
   "cell_type": "code",
   "execution_count": 3,
   "metadata": {},
   "outputs": [],
   "source": [
    "class AgentState(TypedDict):\n",
    "    messages: Annotated[list[AnyMessage], operator.add]"
   ]
  },
  {
   "cell_type": "code",
   "execution_count": 4,
   "metadata": {},
   "outputs": [],
   "source": [
    "#!pip install langgraph-checkpoint-sqlite\n",
    "from langgraph.checkpoint.sqlite import SqliteSaver # in order for this to work we have to install langgraph-checkpoint-sqlite\n",
    "import sqlite3\n",
    "#memory = SqliteSaver.from_conn_string(\":memory:\")\n",
    "\n",
    "from langgraph.checkpoint.sqlite import SqliteSaver\n",
    "\n",
    "db_path = 'checkpoints.db'\n",
    "conn = sqlite3.connect(db_path, check_same_thread=False)\n",
    "\n",
    "memory = SqliteSaver(conn)"
   ]
  },
  {
   "cell_type": "code",
   "execution_count": 5,
   "metadata": {},
   "outputs": [],
   "source": [
    "class Agent:\n",
    "    def __init__(self, model, tools, checkpointer, system=\"\"):\n",
    "        self.system = system\n",
    "        graph = StateGraph(AgentState)\n",
    "        graph.add_node(\"llm\", self.call_openai)\n",
    "        graph.add_node(\"action\", self.take_action)\n",
    "        graph.add_conditional_edges(\"llm\", self.exists_action, {True: \"action\", False: END})\n",
    "        graph.add_edge(\"action\", \"llm\")\n",
    "        graph.set_entry_point(\"llm\")\n",
    "        self.graph = graph.compile(checkpointer=checkpointer)\n",
    "        self.tools = {t.name: t for t in tools}\n",
    "        self.model = model.bind_tools(tools)\n",
    "\n",
    "    def call_openai(self, state: AgentState):\n",
    "        messages = state['messages']\n",
    "        if self.system:\n",
    "            messages = [SystemMessage(content=self.system)] + messages\n",
    "        message = self.model.invoke(messages)\n",
    "        return {'messages': [message]}\n",
    "\n",
    "    def exists_action(self, state: AgentState):\n",
    "        result = state['messages'][-1]\n",
    "        return len(result.tool_calls) > 0\n",
    "\n",
    "    def take_action(self, state: AgentState):\n",
    "        tool_calls = state['messages'][-1].tool_calls\n",
    "        results = []\n",
    "        for t in tool_calls:\n",
    "            print(f\"Calling: {t}\")\n",
    "            result = self.tools[t['name']].invoke(t['args'])\n",
    "            results.append(ToolMessage(tool_call_id=t['id'], name=t['name'], content=str(result)))\n",
    "        print(\"Back to the model!\")\n",
    "        return {'messages': results}"
   ]
  },
  {
   "cell_type": "code",
   "execution_count": 6,
   "metadata": {},
   "outputs": [],
   "source": [
    "prompt = \"\"\"You are a smart research assistant. Use the search engine to look up information. \\\n",
    "You are allowed to make multiple calls (either together or in sequence). \\\n",
    "Only look up information when you are sure of what you want. \\\n",
    "If you need to look up some information before asking a follow up question, you are allowed to do that!\n",
    "\"\"\"\n",
    "model = ChatOpenAI(model=\"gpt-4o\")\n",
    "abot = Agent(model, [tool], system=prompt, checkpointer=memory)"
   ]
  },
  {
   "cell_type": "code",
   "execution_count": 7,
   "metadata": {},
   "outputs": [],
   "source": [
    "# pip install langgraph-checkpoint-sqlite\n",
    "\n",
    "from langgraph.checkpoint.memory import MemorySaver\n",
    "from langgraph.checkpoint.sqlite import SqliteSaver\n",
    "from langgraph.checkpoint.sqlite.aio import AsyncSqliteSaver"
   ]
  },
  {
   "cell_type": "code",
   "execution_count": 8,
   "metadata": {},
   "outputs": [],
   "source": [
    "# Stream: the first thing can be about streaming individual message\n",
    "# The second thing can be about token, where we stream the output of every token\n",
    "\n",
    "messages = [HumanMessage(content=\"What is the weather in Kigali?\")]\n",
    "thread   = {\"configurable\": {\"thread_id\": \"1\"}} # this will allow us to have multiple conversation going at the same time\n",
    "# the thread is also very useful when you have multiple people using your application at the same time\n",
    "\n"
   ]
  },
  {
   "cell_type": "code",
   "execution_count": 9,
   "metadata": {},
   "outputs": [
    {
     "name": "stdout",
     "output_type": "stream",
     "text": [
      "[AIMessage(content='', additional_kwargs={'tool_calls': [{'id': 'call_JeloP2Ge76M30e8gGeudB80Y', 'function': {'arguments': '{\"query\":\"current weather in Kigali\"}', 'name': 'tavily_search_results_json'}, 'type': 'function'}], 'refusal': None}, response_metadata={'token_usage': {'completion_tokens': 22, 'prompt_tokens': 151, 'total_tokens': 173, 'completion_tokens_details': {'accepted_prediction_tokens': 0, 'audio_tokens': 0, 'reasoning_tokens': 0, 'rejected_prediction_tokens': 0}, 'prompt_tokens_details': {'audio_tokens': 0, 'cached_tokens': 0}}, 'model_name': 'gpt-4o-2024-08-06', 'system_fingerprint': 'fp_4691090a87', 'finish_reason': 'tool_calls', 'logprobs': None}, id='run-da9756cc-fd61-4857-bd82-34846e03d614-0', tool_calls=[{'name': 'tavily_search_results_json', 'args': {'query': 'current weather in Kigali'}, 'id': 'call_JeloP2Ge76M30e8gGeudB80Y', 'type': 'tool_call'}], usage_metadata={'input_tokens': 151, 'output_tokens': 22, 'total_tokens': 173, 'input_token_details': {'audio': 0, 'cache_read': 0}, 'output_token_details': {'audio': 0, 'reasoning': 0}})]\n",
      "Calling: {'name': 'tavily_search_results_json', 'args': {'query': 'current weather in Kigali'}, 'id': 'call_JeloP2Ge76M30e8gGeudB80Y', 'type': 'tool_call'}\n",
      "Back to the model!\n",
      "[ToolMessage(content='[{\\'url\\': \\'https://www.weatherapi.com/\\', \\'content\\': \"{\\'location\\': {\\'name\\': \\'Kigali\\', \\'region\\': \\'Kigali\\', \\'country\\': \\'Rwanda\\', \\'lat\\': -1.9536, \\'lon\\': 30.0606, \\'tz_id\\': \\'Africa/Kigali\\', \\'localtime_epoch\\': 1737972885, \\'localtime\\': \\'2025-01-27 12:14\\'}, \\'current\\': {\\'last_updated_epoch\\': 1737972000, \\'last_updated\\': \\'2025-01-27 12:00\\', \\'temp_c\\': 24.0, \\'temp_f\\': 75.2, \\'is_day\\': 1, \\'condition\\': {\\'text\\': \\'Partly cloudy\\', \\'icon\\': \\'//cdn.weatherapi.com/weather/64x64/day/116.png\\', \\'code\\': 1003}, \\'wind_mph\\': 2.2, \\'wind_kph\\': 3.6, \\'wind_degree\\': 202, \\'wind_dir\\': \\'SSW\\', \\'pressure_mb\\': 1020.0, \\'pressure_in\\': 30.12, \\'precip_mm\\': 0.13, \\'precip_in\\': 0.0, \\'humidity\\': 57, \\'cloud\\': 50, \\'feelslike_c\\': 24.7, \\'feelslike_f\\': 76.5, \\'windchill_c\\': 27.6, \\'windchill_f\\': 81.7, \\'heatindex_c\\': 27.4, \\'heatindex_f\\': 81.3, \\'dewpoint_c\\': 12.5, \\'dewpoint_f\\': 54.5, \\'vis_km\\': 10.0, \\'vis_miles\\': 6.0, \\'uv\\': 10.7, \\'gust_mph\\': 6.7, \\'gust_kph\\': 10.8}}\"}, {\\'url\\': \\'https://www.peoplesweather.com/weather/Kigali/?date=2025-01-27\\', \\'content\\': \\'Get your weather updates for Kigali as seen on our Detailed Bulletin on People°s Weather DStv Channel 180 and Openview Channel 115. ... Weather; Rwanda; Kigali; Monday 27 January 2025. 27°C 15°C: 0% . Cloud Cover: 100%. S / 10km/h. Light Breeze. Overcast: Morning: 19°C: Overcast. Mild:\\'}]', name='tavily_search_results_json', tool_call_id='call_JeloP2Ge76M30e8gGeudB80Y')]\n",
      "[AIMessage(content='The current weather in Kigali is partly cloudy with a temperature of 24°C (75.2°F). The wind is blowing from the south-southwest at a speed of 3.6 kph (2.2 mph), and the humidity is 57%. The visibility is 10 kilometers, and the atmospheric pressure is 1020 mb.', additional_kwargs={'refusal': None}, response_metadata={'token_usage': {'completion_tokens': 73, 'prompt_tokens': 707, 'total_tokens': 780, 'completion_tokens_details': {'accepted_prediction_tokens': 0, 'audio_tokens': 0, 'reasoning_tokens': 0, 'rejected_prediction_tokens': 0}, 'prompt_tokens_details': {'audio_tokens': 0, 'cached_tokens': 0}}, 'model_name': 'gpt-4o-2024-08-06', 'system_fingerprint': 'fp_4691090a87', 'finish_reason': 'stop', 'logprobs': None}, id='run-48a349eb-3038-48af-99a6-ed30b48dbd77-0', usage_metadata={'input_tokens': 707, 'output_tokens': 73, 'total_tokens': 780, 'input_token_details': {'audio': 0, 'cache_read': 0}, 'output_token_details': {'audio': 0, 'reasoning': 0}})]\n",
      "{'messages': [AIMessage(content='', additional_kwargs={'tool_calls': [{'id': 'call_inAdTP9QN3A0lnlcpaMHC8Od', 'function': {'arguments': '{\"query\":\"current weather in Kampala\"}', 'name': 'tavily_search_results_json'}, 'type': 'function'}], 'refusal': None}, response_metadata={'token_usage': {'completion_tokens': 22, 'prompt_tokens': 791, 'total_tokens': 813, 'completion_tokens_details': {'accepted_prediction_tokens': 0, 'audio_tokens': 0, 'reasoning_tokens': 0, 'rejected_prediction_tokens': 0}, 'prompt_tokens_details': {'audio_tokens': 0, 'cached_tokens': 0}}, 'model_name': 'gpt-4o-2024-08-06', 'system_fingerprint': 'fp_4691090a87', 'finish_reason': 'tool_calls', 'logprobs': None}, id='run-bc5ff917-f918-4d0a-a6d2-f010cfec7044-0', tool_calls=[{'name': 'tavily_search_results_json', 'args': {'query': 'current weather in Kampala'}, 'id': 'call_inAdTP9QN3A0lnlcpaMHC8Od', 'type': 'tool_call'}], usage_metadata={'input_tokens': 791, 'output_tokens': 22, 'total_tokens': 813, 'input_token_details': {'audio': 0, 'cache_read': 0}, 'output_token_details': {'audio': 0, 'reasoning': 0}})]}\n",
      "Calling: {'name': 'tavily_search_results_json', 'args': {'query': 'current weather in Kampala'}, 'id': 'call_inAdTP9QN3A0lnlcpaMHC8Od', 'type': 'tool_call'}\n",
      "Back to the model!\n",
      "{'messages': [ToolMessage(content='[{\\'url\\': \\'https://www.weatherapi.com/\\', \\'content\\': \"{\\'location\\': {\\'name\\': \\'Kampala\\', \\'region\\': \\'Kampala\\', \\'country\\': \\'Uganda\\', \\'lat\\': 0.3156, \\'lon\\': 32.5656, \\'tz_id\\': \\'Africa/Kampala\\', \\'localtime_epoch\\': 1737972889, \\'localtime\\': \\'2025-01-27 13:14\\'}, \\'current\\': {\\'last_updated_epoch\\': 1737972000, \\'last_updated\\': \\'2025-01-27 13:00\\', \\'temp_c\\': 27.3, \\'temp_f\\': 81.1, \\'is_day\\': 1, \\'condition\\': {\\'text\\': \\'Partly cloudy\\', \\'icon\\': \\'//cdn.weatherapi.com/weather/64x64/day/116.png\\', \\'code\\': 1003}, \\'wind_mph\\': 4.0, \\'wind_kph\\': 6.5, \\'wind_degree\\': 6, \\'wind_dir\\': \\'N\\', \\'pressure_mb\\': 1017.0, \\'pressure_in\\': 30.03, \\'precip_mm\\': 0.0, \\'precip_in\\': 0.0, \\'humidity\\': 66, \\'cloud\\': 25, \\'feelslike_c\\': 26.5, \\'feelslike_f\\': 79.7, \\'windchill_c\\': 28.5, \\'windchill_f\\': 83.3, \\'heatindex_c\\': 27.6, \\'heatindex_f\\': 81.6, \\'dewpoint_c\\': 10.0, \\'dewpoint_f\\': 50.1, \\'vis_km\\': 10.0, \\'vis_miles\\': 6.0, \\'uv\\': 5.1, \\'gust_mph\\': 4.9, \\'gust_kph\\': 7.8}}\"}, {\\'url\\': \\'https://www.peoplesweather.com/weather/Kampala/?date=2025-01-27\\', \\'content\\': \\'Get your weather updates for Kampala as seen on our Detailed Bulletin on People°s Weather DStv Channel 180 and Openview Channel 115. ... Weather for Kampala. Weather; Uganda; Kampala; Monday 27 January 2025. 28°C 20°C: 0% . Cloud Cover: 96%. NNE / 15km/h. Gentle Breeze. Overcast: Morning: 23°C: Overcast. Mild\\'}]', name='tavily_search_results_json', tool_call_id='call_inAdTP9QN3A0lnlcpaMHC8Od')]}\n",
      "{'messages': [AIMessage(content='The current weather in Kampala is partly cloudy with a temperature of 27.3°C (81.1°F). The wind is blowing from the north at a speed of 6.5 kph (4.0 mph), and the humidity is 66%. The visibility is 10 kilometers, and the atmospheric pressure is 1017 mb.', additional_kwargs={'refusal': None}, response_metadata={'token_usage': {'completion_tokens': 72, 'prompt_tokens': 1351, 'total_tokens': 1423, 'completion_tokens_details': {'accepted_prediction_tokens': 0, 'audio_tokens': 0, 'reasoning_tokens': 0, 'rejected_prediction_tokens': 0}, 'prompt_tokens_details': {'audio_tokens': 0, 'cached_tokens': 0}}, 'model_name': 'gpt-4o-2024-08-06', 'system_fingerprint': 'fp_4691090a87', 'finish_reason': 'stop', 'logprobs': None}, id='run-62a9850f-630b-43b5-81a8-0774c9771ed4-0', usage_metadata={'input_tokens': 1351, 'output_tokens': 72, 'total_tokens': 1423, 'input_token_details': {'audio': 0, 'cache_read': 0}, 'output_token_details': {'audio': 0, 'reasoning': 0}})]}\n",
      "{'messages': [AIMessage(content=\"Kampala is currently warmer than Kigali, with a temperature of 27.3°C (81.1°F) compared to Kigali's 24°C (75.2°F).\", additional_kwargs={'refusal': None}, response_metadata={'token_usage': {'completion_tokens': 39, 'prompt_tokens': 1434, 'total_tokens': 1473, 'completion_tokens_details': {'accepted_prediction_tokens': 0, 'audio_tokens': 0, 'reasoning_tokens': 0, 'rejected_prediction_tokens': 0}, 'prompt_tokens_details': {'audio_tokens': 0, 'cached_tokens': 1280}}, 'model_name': 'gpt-4o-2024-08-06', 'system_fingerprint': 'fp_4691090a87', 'finish_reason': 'stop', 'logprobs': None}, id='run-c370e077-98d6-46ad-bd9c-5954a6d612b4-0', usage_metadata={'input_tokens': 1434, 'output_tokens': 39, 'total_tokens': 1473, 'input_token_details': {'audio': 0, 'cache_read': 1280}, 'output_token_details': {'audio': 0, 'reasoning': 0}})]}\n"
     ]
    }
   ],
   "source": [
    "with SqliteSaver.from_conn_string(\":memory:\") as memory:\n",
    "  abot = Agent(model, [tool], system=prompt, checkpointer=memory)\n",
    "\n",
    "  messages = [HumanMessage(content=\"What is the weather in Kigali?\")]\n",
    "  thread = {\"configurable\": {\"thread_id\": \"1\"}}\n",
    "  \n",
    "  for event in abot.graph.stream({\"messages\": messages}, thread):\n",
    "      for v in event.values():\n",
    "          try:\n",
    "            print(v['messages'])\n",
    "          except:\n",
    "             pass\n",
    "          \n",
    "  messages = [HumanMessage(content=\"What about in Kampala?\")]\n",
    "  thread = {\"configurable\": {\"thread_id\": \"1\"}}\n",
    "  for event in abot.graph.stream({\"messages\": messages}, thread):\n",
    "      for v in event.values():\n",
    "          print(v)\n",
    "\n",
    "\n",
    "  messages = [HumanMessage(content=\"Which one is warmer?\")]\n",
    "  thread = {\"configurable\": {\"thread_id\": \"1\"}}\n",
    "  for event in abot.graph.stream({\"messages\": messages}, thread):\n",
    "      for v in event.values():\n",
    "          print(v)"
   ]
  },
  {
   "cell_type": "markdown",
   "metadata": {},
   "source": [
    "### Losing memory\n",
    "when the thread id is change, the model no longer have access to the memory and thus get confused"
   ]
  },
  {
   "cell_type": "code",
   "execution_count": 10,
   "metadata": {},
   "outputs": [
    {
     "name": "stdout",
     "output_type": "stream",
     "text": [
      "[AIMessage(content='', additional_kwargs={'tool_calls': [{'id': 'call_8cTfIQTQnBZ9Olikq3Ra2sxW', 'function': {'arguments': '{\"query\":\"Kigali weather today\"}', 'name': 'tavily_search_results_json'}, 'type': 'function'}], 'refusal': None}, response_metadata={'token_usage': {'completion_tokens': 23, 'prompt_tokens': 151, 'total_tokens': 174, 'completion_tokens_details': {'accepted_prediction_tokens': 0, 'audio_tokens': 0, 'reasoning_tokens': 0, 'rejected_prediction_tokens': 0}, 'prompt_tokens_details': {'audio_tokens': 0, 'cached_tokens': 0}}, 'model_name': 'gpt-4o-2024-08-06', 'system_fingerprint': 'fp_4691090a87', 'finish_reason': 'tool_calls', 'logprobs': None}, id='run-8cffa77b-e7e0-425e-ab72-c95e844840c5-0', tool_calls=[{'name': 'tavily_search_results_json', 'args': {'query': 'Kigali weather today'}, 'id': 'call_8cTfIQTQnBZ9Olikq3Ra2sxW', 'type': 'tool_call'}], usage_metadata={'input_tokens': 151, 'output_tokens': 23, 'total_tokens': 174, 'input_token_details': {'audio': 0, 'cache_read': 0}, 'output_token_details': {'audio': 0, 'reasoning': 0}})]\n",
      "Calling: {'name': 'tavily_search_results_json', 'args': {'query': 'Kigali weather today'}, 'id': 'call_8cTfIQTQnBZ9Olikq3Ra2sxW', 'type': 'tool_call'}\n",
      "Back to the model!\n",
      "[ToolMessage(content='[{\\'url\\': \\'https://www.weatherapi.com/\\', \\'content\\': \"{\\'location\\': {\\'name\\': \\'Kigali\\', \\'region\\': \\'Kigali\\', \\'country\\': \\'Rwanda\\', \\'lat\\': -1.9536, \\'lon\\': 30.0606, \\'tz_id\\': \\'Africa/Kigali\\', \\'localtime_epoch\\': 1737972895, \\'localtime\\': \\'2025-01-27 12:14\\'}, \\'current\\': {\\'last_updated_epoch\\': 1737972000, \\'last_updated\\': \\'2025-01-27 12:00\\', \\'temp_c\\': 24.0, \\'temp_f\\': 75.2, \\'is_day\\': 1, \\'condition\\': {\\'text\\': \\'Partly cloudy\\', \\'icon\\': \\'//cdn.weatherapi.com/weather/64x64/day/116.png\\', \\'code\\': 1003}, \\'wind_mph\\': 2.2, \\'wind_kph\\': 3.6, \\'wind_degree\\': 202, \\'wind_dir\\': \\'SSW\\', \\'pressure_mb\\': 1020.0, \\'pressure_in\\': 30.12, \\'precip_mm\\': 0.13, \\'precip_in\\': 0.0, \\'humidity\\': 57, \\'cloud\\': 50, \\'feelslike_c\\': 24.7, \\'feelslike_f\\': 76.5, \\'windchill_c\\': 27.6, \\'windchill_f\\': 81.7, \\'heatindex_c\\': 27.4, \\'heatindex_f\\': 81.3, \\'dewpoint_c\\': 12.5, \\'dewpoint_f\\': 54.5, \\'vis_km\\': 10.0, \\'vis_miles\\': 6.0, \\'uv\\': 10.7, \\'gust_mph\\': 6.7, \\'gust_kph\\': 10.8}}\"}, {\\'url\\': \\'https://www.peoplesweather.com/weather/Kigali/?date=2025-01-27\\', \\'content\\': \\'Get your weather updates for Kigali as seen on our Detailed Bulletin on People°s Weather DStv Channel 180 and Openview Channel 115. ... Monday 27 January 2025. 27°C 15°C: 0% . Cloud Cover: 100%. S / 10km/h. Light Breeze. Overcast: Morning: 19°C: Overcast. Mild: Afternoon: 23°C: Overcast. Mild: Night: 18°C: Overcast. Mild: 7 Day Forecast\\'}]', name='tavily_search_results_json', tool_call_id='call_8cTfIQTQnBZ9Olikq3Ra2sxW')]\n",
      "[AIMessage(content='The current weather in Kigali is partly cloudy with a temperature of 24°C (75.2°F). The wind is blowing from the south-southwest at 3.6 km/h (2.2 mph), and the humidity level is at 57%. The visibility is 10 km (6 miles), and the UV index is 10.7, indicating high UV levels. There is a slight chance of precipitation, with a recorded 0.13 mm of rain.', additional_kwargs={'refusal': None}, response_metadata={'token_usage': {'completion_tokens': 99, 'prompt_tokens': 729, 'total_tokens': 828, 'completion_tokens_details': {'accepted_prediction_tokens': 0, 'audio_tokens': 0, 'reasoning_tokens': 0, 'rejected_prediction_tokens': 0}, 'prompt_tokens_details': {'audio_tokens': 0, 'cached_tokens': 0}}, 'model_name': 'gpt-4o-2024-08-06', 'system_fingerprint': 'fp_4691090a87', 'finish_reason': 'stop', 'logprobs': None}, id='run-bb5f71d6-95a1-40a8-b428-1253c32d7643-0', usage_metadata={'input_tokens': 729, 'output_tokens': 99, 'total_tokens': 828, 'input_token_details': {'audio': 0, 'cache_read': 0}, 'output_token_details': {'audio': 0, 'reasoning': 0}})]\n",
      "{'messages': [AIMessage(content='', additional_kwargs={'tool_calls': [{'id': 'call_AaLJSagwm9Y6j21Oj5AdGqXe', 'function': {'arguments': '{\"query\":\"Kampala weather today\"}', 'name': 'tavily_search_results_json'}, 'type': 'function'}], 'refusal': None}, response_metadata={'token_usage': {'completion_tokens': 23, 'prompt_tokens': 839, 'total_tokens': 862, 'completion_tokens_details': {'accepted_prediction_tokens': 0, 'audio_tokens': 0, 'reasoning_tokens': 0, 'rejected_prediction_tokens': 0}, 'prompt_tokens_details': {'audio_tokens': 0, 'cached_tokens': 0}}, 'model_name': 'gpt-4o-2024-08-06', 'system_fingerprint': 'fp_4691090a87', 'finish_reason': 'tool_calls', 'logprobs': None}, id='run-f76b7f32-106b-4668-aad9-e0687d57933e-0', tool_calls=[{'name': 'tavily_search_results_json', 'args': {'query': 'Kampala weather today'}, 'id': 'call_AaLJSagwm9Y6j21Oj5AdGqXe', 'type': 'tool_call'}], usage_metadata={'input_tokens': 839, 'output_tokens': 23, 'total_tokens': 862, 'input_token_details': {'audio': 0, 'cache_read': 0}, 'output_token_details': {'audio': 0, 'reasoning': 0}})]}\n",
      "Calling: {'name': 'tavily_search_results_json', 'args': {'query': 'Kampala weather today'}, 'id': 'call_AaLJSagwm9Y6j21Oj5AdGqXe', 'type': 'tool_call'}\n",
      "Back to the model!\n",
      "{'messages': [ToolMessage(content='[{\\'url\\': \\'https://www.weatherapi.com/\\', \\'content\\': \"{\\'location\\': {\\'name\\': \\'Kampala\\', \\'region\\': \\'Kampala\\', \\'country\\': \\'Uganda\\', \\'lat\\': 0.3156, \\'lon\\': 32.5656, \\'tz_id\\': \\'Africa/Kampala\\', \\'localtime_epoch\\': 1737972901, \\'localtime\\': \\'2025-01-27 13:15\\'}, \\'current\\': {\\'last_updated_epoch\\': 1737972900, \\'last_updated\\': \\'2025-01-27 13:15\\', \\'temp_c\\': 27.3, \\'temp_f\\': 81.1, \\'is_day\\': 1, \\'condition\\': {\\'text\\': \\'Partly cloudy\\', \\'icon\\': \\'//cdn.weatherapi.com/weather/64x64/day/116.png\\', \\'code\\': 1003}, \\'wind_mph\\': 4.0, \\'wind_kph\\': 6.5, \\'wind_degree\\': 6, \\'wind_dir\\': \\'N\\', \\'pressure_mb\\': 1017.0, \\'pressure_in\\': 30.03, \\'precip_mm\\': 0.0, \\'precip_in\\': 0.0, \\'humidity\\': 66, \\'cloud\\': 25, \\'feelslike_c\\': 26.5, \\'feelslike_f\\': 79.7, \\'windchill_c\\': 28.5, \\'windchill_f\\': 83.3, \\'heatindex_c\\': 27.6, \\'heatindex_f\\': 81.6, \\'dewpoint_c\\': 10.0, \\'dewpoint_f\\': 50.1, \\'vis_km\\': 10.0, \\'vis_miles\\': 6.0, \\'uv\\': 5.1, \\'gust_mph\\': 4.9, \\'gust_kph\\': 7.8}}\"}, {\\'url\\': \\'https://world-weather.info/forecast/uganda/kampala/month/\\', \\'content\\': \\'Kampala 30-Day Forecast - Monthly Weather in Kampala, Kampala District Kampala 30-Day Weather Forecast 30-Day weather forecast in Kampala for January, February 2025 is based on analysis of available statistical data and long-term forecast methods. +84°+66 +82°+68 +82°+68 +82°+70 +82°+68 +82°+68 +82°+68 +82°+68 +84°+68 +82°+68 +84°+68 +82°+68 +82°+68 +84°+68 +82°+70 14 days 13 days 3 days Day Day temperature forecast 77° 79° 79° 77° 75° 77° 81° 75° 79° 79° 86° 82° 82° 90° 88° 84° 82° 82° 82° 82° 82° 82° 82° 84° 82° 84° 82° 82° 84° 82° 72° 72° 68° 70° 70° 66° 72° 72° 72° 72° 72° 68° 70° 70° 70° 66° 68° 68° 70° 68° 68° 68° 68° 68° 68° 68° 68° 68° 68° 70°\\'}]', name='tavily_search_results_json', tool_call_id='call_AaLJSagwm9Y6j21Oj5AdGqXe')]}\n",
      "{'messages': [AIMessage(content='The current weather in Kampala is partly cloudy with a temperature of 27.3°C (81.1°F). The wind is coming from the north at 6.5 km/h (4.0 mph), with a humidity level of 66%. Visibility is clear at 10 km (6 miles), and the UV index is moderate at 5.1. There is no precipitation recorded at the moment.', additional_kwargs={'refusal': None}, response_metadata={'token_usage': {'completion_tokens': 85, 'prompt_tokens': 1620, 'total_tokens': 1705, 'completion_tokens_details': {'accepted_prediction_tokens': 0, 'audio_tokens': 0, 'reasoning_tokens': 0, 'rejected_prediction_tokens': 0}, 'prompt_tokens_details': {'audio_tokens': 0, 'cached_tokens': 0}}, 'model_name': 'gpt-4o-2024-08-06', 'system_fingerprint': 'fp_4691090a87', 'finish_reason': 'stop', 'logprobs': None}, id='run-65c614fe-2c73-4109-a9ad-2484d35b18a6-0', usage_metadata={'input_tokens': 1620, 'output_tokens': 85, 'total_tokens': 1705, 'input_token_details': {'audio': 0, 'cache_read': 0}, 'output_token_details': {'audio': 0, 'reasoning': 0}})]}\n",
      "{'messages': [AIMessage(content='Could you please specify the entities or locations you are comparing to determine which one is warmer?', additional_kwargs={'refusal': None}, response_metadata={'token_usage': {'completion_tokens': 20, 'prompt_tokens': 149, 'total_tokens': 169, 'completion_tokens_details': {'accepted_prediction_tokens': 0, 'audio_tokens': 0, 'reasoning_tokens': 0, 'rejected_prediction_tokens': 0}, 'prompt_tokens_details': {'audio_tokens': 0, 'cached_tokens': 0}}, 'model_name': 'gpt-4o-2024-08-06', 'system_fingerprint': 'fp_4691090a87', 'finish_reason': 'stop', 'logprobs': None}, id='run-c1ae5425-9bf0-4cfd-9f18-c624ba76c87d-0', usage_metadata={'input_tokens': 149, 'output_tokens': 20, 'total_tokens': 169, 'input_token_details': {'audio': 0, 'cache_read': 0}, 'output_token_details': {'audio': 0, 'reasoning': 0}})]}\n"
     ]
    }
   ],
   "source": [
    "with SqliteSaver.from_conn_string(\":memory:\") as memory:\n",
    "  abot = Agent(model, [tool], system=prompt, checkpointer=memory)\n",
    "\n",
    "  messages = [HumanMessage(content=\"What is the weather in Kigali?\")]\n",
    "  thread = {\"configurable\": {\"thread_id\": \"1\"}}\n",
    "  \n",
    "  for event in abot.graph.stream({\"messages\": messages}, thread):\n",
    "      for v in event.values():\n",
    "          try:\n",
    "            print(v['messages'])\n",
    "          except:\n",
    "             pass\n",
    "          \n",
    "  messages = [HumanMessage(content=\"What about in Kampala?\")]\n",
    "  thread = {\"configurable\": {\"thread_id\": \"1\"}}\n",
    "  for event in abot.graph.stream({\"messages\": messages}, thread):\n",
    "      for v in event.values():\n",
    "          print(v)\n",
    "\n",
    "\n",
    "  messages = [HumanMessage(content=\"Which one is warmer?\")]\n",
    "  thread = {\"configurable\": {\"thread_id\": \"2\"}}\n",
    "  for event in abot.graph.stream({\"messages\": messages}, thread):\n",
    "      for v in event.values():\n",
    "          print(v)"
   ]
  },
  {
   "cell_type": "markdown",
   "metadata": {},
   "source": [
    "## Streaming tokens"
   ]
  },
  {
   "cell_type": "code",
   "execution_count": 11,
   "metadata": {},
   "outputs": [
    {
     "name": "stdout",
     "output_type": "stream",
     "text": [
      "Calling: {'name': 'tavily_search_results_json', 'args': {'query': 'current weather in San Francisco'}, 'id': 'call_ShI8kbnTShcs6Z8c8k3jyBld', 'type': 'tool_call'}\n",
      "Back to the model!\n",
      "The| current| weather| in| San| Francisco| is| clear| and| cool|.| The| temperature| is| approximately| |5|.|6|°C| (|42|.|1|°F|),| with| a| wind| coming| from| the| north|-n|ort|heast| at| around| |6| mph| (|9|.|7| k|ph|).| The| humidity| is| at| |57|%,| and| there| is| no| precipitation|.| The| visibility| is| good|,| with| |16| km| (|9| miles|),| and| the| UV| index| is| low|.|"
     ]
    }
   ],
   "source": [
    "import asyncio\n",
    "from contextlib import AsyncExitStack\n",
    "from langgraph.checkpoint.sqlite.aio import AsyncSqliteSaver\n",
    "\n",
    "stack = AsyncExitStack()\n",
    "memory = await stack.enter_async_context(AsyncSqliteSaver.from_conn_string(\":memory:\"))\n",
    "\n",
    "abot = Agent(model, [tool], system=prompt, checkpointer=memory)\n",
    "\n",
    "messages = [HumanMessage(content=\"What is the weather in SF?\")]\n",
    "thread = {\"configurable\": {\"thread_id\": \"4\"}}\n",
    "async for event in abot.graph.astream_events({\"messages\": messages}, thread, version=\"v1\"):\n",
    "        kind = event[\"event\"]\n",
    "        if kind == \"on_chat_model_stream\":\n",
    "            content = event[\"data\"][\"chunk\"].content\n",
    "            if content:\n",
    "                # Empty content in the context of OpenAI means\n",
    "                # that the model is asking for a tool to be invoked.\n",
    "                # So we only print non-empty content\n",
    "                print(content, end=\"|\")\n",
    "\n",
    "await stack.aclose()"
   ]
  },
  {
   "cell_type": "code",
   "execution_count": null,
   "metadata": {},
   "outputs": [],
   "source": []
  }
 ],
 "metadata": {
  "kernelspec": {
   "display_name": "Python 3",
   "language": "python",
   "name": "python3"
  },
  "language_info": {
   "codemirror_mode": {
    "name": "ipython",
    "version": 3
   },
   "file_extension": ".py",
   "mimetype": "text/x-python",
   "name": "python",
   "nbconvert_exporter": "python",
   "pygments_lexer": "ipython3",
   "version": "3.12.2"
  }
 },
 "nbformat": 4,
 "nbformat_minor": 2
}
